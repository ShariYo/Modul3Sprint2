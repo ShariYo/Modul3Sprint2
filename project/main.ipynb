{
 "cells": [
  {
   "cell_type": "markdown",
   "metadata": {},
   "source": [
    "## Project: Stroke prediction"
   ]
  },
  {
   "cell_type": "code",
   "execution_count": 50,
   "metadata": {},
   "outputs": [],
   "source": [
    "import pandas as pd\n",
    "import numpy as np\n",
    "import matplotlib.pyplot as plt\n",
    "import seaborn as sns\n",
    "import functions_sandbox as sand\n",
    "import statsmodels.api as sm\n",
    "import scipy.stats as stats\n",
    "from sklearn.impute import SimpleImputer\n",
    "from statsmodels.stats.proportion import proportions_ztest\n",
    "from scipy.stats import shapiro, anderson, chi2_contingency, spearmanr, loguniform, randint\n",
    "from sklearn.metrics import accuracy_score, confusion_matrix, classification_report, mutual_info_score\n",
    "from sklearn.model_selection import train_test_split, RandomizedSearchCV\n",
    "from sklearn.linear_model import LogisticRegression\n",
    "from sklearn.ensemble import HistGradientBoostingClassifier, RandomForestClassifier\n",
    "from sklearn.preprocessing import StandardScaler, OneHotEncoder\n",
    "from sklearn.compose import ColumnTransformer\n",
    "from sklearn.pipeline import make_pipeline, Pipeline\n",
    "from sklearn.model_selection import cross_validate\n",
    "from imblearn.over_sampling import RandomOverSampler"
   ]
  },
  {
   "cell_type": "code",
   "execution_count": 2,
   "metadata": {},
   "outputs": [],
   "source": [
    "path = r\"D:\\IT_projects\\Turing_Colledge\\Modul3\\Sprint2\\project\\healthcare-dataset-stroke-data.csv\"\n",
    "healthcare = pd.read_csv(path)"
   ]
  },
  {
   "cell_type": "code",
   "execution_count": 3,
   "metadata": {},
   "outputs": [
    {
     "data": {
      "text/html": [
       "<div>\n",
       "<style scoped>\n",
       "    .dataframe tbody tr th:only-of-type {\n",
       "        vertical-align: middle;\n",
       "    }\n",
       "\n",
       "    .dataframe tbody tr th {\n",
       "        vertical-align: top;\n",
       "    }\n",
       "\n",
       "    .dataframe thead th {\n",
       "        text-align: right;\n",
       "    }\n",
       "</style>\n",
       "<table border=\"1\" class=\"dataframe\">\n",
       "  <thead>\n",
       "    <tr style=\"text-align: right;\">\n",
       "      <th></th>\n",
       "      <th>id</th>\n",
       "      <th>gender</th>\n",
       "      <th>age</th>\n",
       "      <th>hypertension</th>\n",
       "      <th>heart_disease</th>\n",
       "      <th>ever_married</th>\n",
       "      <th>work_type</th>\n",
       "      <th>Residence_type</th>\n",
       "      <th>avg_glucose_level</th>\n",
       "      <th>bmi</th>\n",
       "      <th>smoking_status</th>\n",
       "      <th>stroke</th>\n",
       "    </tr>\n",
       "  </thead>\n",
       "  <tbody>\n",
       "    <tr>\n",
       "      <th>0</th>\n",
       "      <td>9046</td>\n",
       "      <td>Male</td>\n",
       "      <td>67.0</td>\n",
       "      <td>0</td>\n",
       "      <td>1</td>\n",
       "      <td>Yes</td>\n",
       "      <td>Private</td>\n",
       "      <td>Urban</td>\n",
       "      <td>228.69</td>\n",
       "      <td>36.6</td>\n",
       "      <td>formerly smoked</td>\n",
       "      <td>1</td>\n",
       "    </tr>\n",
       "    <tr>\n",
       "      <th>1</th>\n",
       "      <td>51676</td>\n",
       "      <td>Female</td>\n",
       "      <td>61.0</td>\n",
       "      <td>0</td>\n",
       "      <td>0</td>\n",
       "      <td>Yes</td>\n",
       "      <td>Self-employed</td>\n",
       "      <td>Rural</td>\n",
       "      <td>202.21</td>\n",
       "      <td>NaN</td>\n",
       "      <td>never smoked</td>\n",
       "      <td>1</td>\n",
       "    </tr>\n",
       "    <tr>\n",
       "      <th>2</th>\n",
       "      <td>31112</td>\n",
       "      <td>Male</td>\n",
       "      <td>80.0</td>\n",
       "      <td>0</td>\n",
       "      <td>1</td>\n",
       "      <td>Yes</td>\n",
       "      <td>Private</td>\n",
       "      <td>Rural</td>\n",
       "      <td>105.92</td>\n",
       "      <td>32.5</td>\n",
       "      <td>never smoked</td>\n",
       "      <td>1</td>\n",
       "    </tr>\n",
       "  </tbody>\n",
       "</table>\n",
       "</div>"
      ],
      "text/plain": [
       "      id  gender   age  hypertension  heart_disease ever_married  \\\n",
       "0   9046    Male  67.0             0              1          Yes   \n",
       "1  51676  Female  61.0             0              0          Yes   \n",
       "2  31112    Male  80.0             0              1          Yes   \n",
       "\n",
       "       work_type Residence_type  avg_glucose_level   bmi   smoking_status  \\\n",
       "0        Private          Urban             228.69  36.6  formerly smoked   \n",
       "1  Self-employed          Rural             202.21   NaN     never smoked   \n",
       "2        Private          Rural             105.92  32.5     never smoked   \n",
       "\n",
       "   stroke  \n",
       "0       1  \n",
       "1       1  \n",
       "2       1  "
      ]
     },
     "execution_count": 3,
     "metadata": {},
     "output_type": "execute_result"
    }
   ],
   "source": [
    "healthcare.head(3)"
   ]
  },
  {
   "cell_type": "code",
   "execution_count": 4,
   "metadata": {},
   "outputs": [
    {
     "data": {
      "text/html": [
       "<div>\n",
       "<style scoped>\n",
       "    .dataframe tbody tr th:only-of-type {\n",
       "        vertical-align: middle;\n",
       "    }\n",
       "\n",
       "    .dataframe tbody tr th {\n",
       "        vertical-align: top;\n",
       "    }\n",
       "\n",
       "    .dataframe thead th {\n",
       "        text-align: right;\n",
       "    }\n",
       "</style>\n",
       "<table border=\"1\" class=\"dataframe\">\n",
       "  <thead>\n",
       "    <tr style=\"text-align: right;\">\n",
       "      <th></th>\n",
       "      <th>id</th>\n",
       "      <th>gender</th>\n",
       "      <th>age</th>\n",
       "      <th>hypertension</th>\n",
       "      <th>heart_disease</th>\n",
       "      <th>ever_married</th>\n",
       "      <th>work_type</th>\n",
       "      <th>Residence_type</th>\n",
       "      <th>avg_glucose_level</th>\n",
       "      <th>bmi</th>\n",
       "      <th>smoking_status</th>\n",
       "      <th>stroke</th>\n",
       "    </tr>\n",
       "  </thead>\n",
       "  <tbody>\n",
       "    <tr>\n",
       "      <th>5107</th>\n",
       "      <td>19723</td>\n",
       "      <td>Female</td>\n",
       "      <td>35.0</td>\n",
       "      <td>0</td>\n",
       "      <td>0</td>\n",
       "      <td>Yes</td>\n",
       "      <td>Self-employed</td>\n",
       "      <td>Rural</td>\n",
       "      <td>82.99</td>\n",
       "      <td>30.6</td>\n",
       "      <td>never smoked</td>\n",
       "      <td>0</td>\n",
       "    </tr>\n",
       "    <tr>\n",
       "      <th>5108</th>\n",
       "      <td>37544</td>\n",
       "      <td>Male</td>\n",
       "      <td>51.0</td>\n",
       "      <td>0</td>\n",
       "      <td>0</td>\n",
       "      <td>Yes</td>\n",
       "      <td>Private</td>\n",
       "      <td>Rural</td>\n",
       "      <td>166.29</td>\n",
       "      <td>25.6</td>\n",
       "      <td>formerly smoked</td>\n",
       "      <td>0</td>\n",
       "    </tr>\n",
       "    <tr>\n",
       "      <th>5109</th>\n",
       "      <td>44679</td>\n",
       "      <td>Female</td>\n",
       "      <td>44.0</td>\n",
       "      <td>0</td>\n",
       "      <td>0</td>\n",
       "      <td>Yes</td>\n",
       "      <td>Govt_job</td>\n",
       "      <td>Urban</td>\n",
       "      <td>85.28</td>\n",
       "      <td>26.2</td>\n",
       "      <td>Unknown</td>\n",
       "      <td>0</td>\n",
       "    </tr>\n",
       "  </tbody>\n",
       "</table>\n",
       "</div>"
      ],
      "text/plain": [
       "         id  gender   age  hypertension  heart_disease ever_married  \\\n",
       "5107  19723  Female  35.0             0              0          Yes   \n",
       "5108  37544    Male  51.0             0              0          Yes   \n",
       "5109  44679  Female  44.0             0              0          Yes   \n",
       "\n",
       "          work_type Residence_type  avg_glucose_level   bmi   smoking_status  \\\n",
       "5107  Self-employed          Rural              82.99  30.6     never smoked   \n",
       "5108        Private          Rural             166.29  25.6  formerly smoked   \n",
       "5109       Govt_job          Urban              85.28  26.2          Unknown   \n",
       "\n",
       "      stroke  \n",
       "5107       0  \n",
       "5108       0  \n",
       "5109       0  "
      ]
     },
     "execution_count": 4,
     "metadata": {},
     "output_type": "execute_result"
    }
   ],
   "source": [
    "healthcare.tail(3)"
   ]
  },
  {
   "cell_type": "markdown",
   "metadata": {},
   "source": [
    "Firstly let's check basic info of given data"
   ]
  },
  {
   "cell_type": "code",
   "execution_count": 5,
   "metadata": {},
   "outputs": [
    {
     "name": "stdout",
     "output_type": "stream",
     "text": [
      "<class 'pandas.core.frame.DataFrame'>\n",
      "RangeIndex: 5110 entries, 0 to 5109\n",
      "Data columns (total 12 columns):\n",
      " #   Column             Non-Null Count  Dtype  \n",
      "---  ------             --------------  -----  \n",
      " 0   id                 5110 non-null   int64  \n",
      " 1   gender             5110 non-null   object \n",
      " 2   age                5110 non-null   float64\n",
      " 3   hypertension       5110 non-null   int64  \n",
      " 4   heart_disease      5110 non-null   int64  \n",
      " 5   ever_married       5110 non-null   object \n",
      " 6   work_type          5110 non-null   object \n",
      " 7   Residence_type     5110 non-null   object \n",
      " 8   avg_glucose_level  5110 non-null   float64\n",
      " 9   bmi                4909 non-null   float64\n",
      " 10  smoking_status     5110 non-null   object \n",
      " 11  stroke             5110 non-null   int64  \n",
      "dtypes: float64(3), int64(4), object(5)\n",
      "memory usage: 479.2+ KB\n"
     ]
    }
   ],
   "source": [
    "healthcare.info()"
   ]
  },
  {
   "cell_type": "markdown",
   "metadata": {},
   "source": [
    "Most of Dtypes looks fine, only age Dtype could be converted to int.  \n",
    "Feature named id doesn't seemed to have a value for analysis and might be  \n",
    "removed."
   ]
  },
  {
   "cell_type": "markdown",
   "metadata": {},
   "source": [
    "### Data cleaning"
   ]
  },
  {
   "cell_type": "markdown",
   "metadata": {},
   "source": [
    "I used my personal dataframe cleaning tool to check and clean basics of  \n",
    "dataframe (duplicates, NaN, empty cells). Info=True shows what type of  \n",
    "problem should be cleaned."
   ]
  },
  {
   "cell_type": "code",
   "execution_count": 6,
   "metadata": {},
   "outputs": [],
   "source": [
    "healthcare = sand.cleaner(healthcare, info=False)"
   ]
  },
  {
   "cell_type": "markdown",
   "metadata": {},
   "source": [
    "Dataframe cleaner function showed that there are some NaN cells. So now let's  \n",
    "check which and how many of these are"
   ]
  },
  {
   "cell_type": "code",
   "execution_count": 7,
   "metadata": {},
   "outputs": [
    {
     "data": {
      "text/plain": [
       "id                   False\n",
       "gender               False\n",
       "age                  False\n",
       "hypertension         False\n",
       "heart_disease        False\n",
       "ever_married         False\n",
       "work_type            False\n",
       "residence_type       False\n",
       "avg_glucose_level    False\n",
       "bmi                   True\n",
       "smoking_status       False\n",
       "stroke               False\n",
       "dtype: bool"
      ]
     },
     "execution_count": 7,
     "metadata": {},
     "output_type": "execute_result"
    }
   ],
   "source": [
    "healthcare.isna().any()"
   ]
  },
  {
   "cell_type": "markdown",
   "metadata": {},
   "source": [
    "Feature named bmi (body mass index) has NaN values that should be processed"
   ]
  },
  {
   "cell_type": "code",
   "execution_count": 8,
   "metadata": {},
   "outputs": [
    {
     "data": {
      "text/plain": [
       "201"
      ]
     },
     "execution_count": 8,
     "metadata": {},
     "output_type": "execute_result"
    }
   ],
   "source": [
    "healthcare[\"bmi\"].isna().sum()"
   ]
  },
  {
   "cell_type": "markdown",
   "metadata": {},
   "source": [
    "We can see that 201/5109 are NaN values in bmi feature which would be ~4%.  \n",
    "It leaves us question what should we do with these values? The idea of dropping  \n",
    "out 4% of data doesn't seem good, so I chose value imputation method."
   ]
  },
  {
   "cell_type": "code",
   "execution_count": 9,
   "metadata": {},
   "outputs": [
    {
     "data": {
      "image/png": "[encoded data removed]",
      "text/plain": [
       "<Figure size 600x400 with 1 Axes>"
      ]
     },
     "metadata": {},
     "output_type": "display_data"
    }
   ],
   "source": [
    "sand.f_histogram(\n",
    "    xaxis=healthcare[\"bmi\"],\n",
    "    bins=20,\n",
    "    kde=True,\n",
    "    label=\"BMI count\",\n",
    "    title=\"Body mass index data distribution\",\n",
    ")"
   ]
  },
  {
   "cell_type": "markdown",
   "metadata": {},
   "source": [
    "We can see BMI data is well distributed with most of the data 20-40 idx.  \n",
    "Keeping this in mind we can use imputation method knowing it won't distort  \n",
    "whole picture of data analysis."
   ]
  },
  {
   "cell_type": "code",
   "execution_count": 10,
   "metadata": {},
   "outputs": [],
   "source": [
    "imputer = SimpleImputer(strategy=\"mean\")\n",
    "healthcare[\"bmi\"] = imputer.fit_transform(healthcare[[\"bmi\"]])"
   ]
  },
  {
   "cell_type": "markdown",
   "metadata": {},
   "source": [
    "After some bmi vales have been adjusted, next step is feature named age.  \n",
    "It has float dtype which is usually unnecessary. Let's look why it could have  \n",
    "this dtype"
   ]
  },
  {
   "cell_type": "code",
   "execution_count": 11,
   "metadata": {},
   "outputs": [
    {
     "data": {
      "text/plain": [
       "array([1.32, 0.64, 0.88, 1.8 , 0.32, 1.08, 1.16, 1.  , 1.4 , 1.72, 0.24,\n",
       "       1.64, 1.56, 0.72, 1.88, 1.24, 0.8 , 0.4 , 0.08, 1.48, 0.56, 0.48,\n",
       "       0.16])"
      ]
     },
     "execution_count": 11,
     "metadata": {},
     "output_type": "execute_result"
    }
   ],
   "source": [
    "healthcare[(healthcare[\"age\"] > 0) & (healthcare[\"age\"] < 2)][\"age\"].unique()"
   ]
  },
  {
   "cell_type": "markdown",
   "metadata": {},
   "source": [
    "Apparently, most of the age values are whole numbers except numbers from  \n",
    "0 to 2. Values in this interval are extracted to decimals. For now, I will  \n",
    "convert these numbers to integers. If any interesting results would be seen  \n",
    "in further analysis, these values (1, 2) will be reversed to floats for deeper  \n",
    "analysis"
   ]
  },
  {
   "cell_type": "code",
   "execution_count": 12,
   "metadata": {},
   "outputs": [],
   "source": [
    "# Copy of healthcare dataframe\n",
    "hc = healthcare.copy()\n",
    "\n",
    "hc[\"age\"] = hc[\"age\"].astype(int)"
   ]
  },
  {
   "cell_type": "code",
   "execution_count": 13,
   "metadata": {},
   "outputs": [
    {
     "data": {
      "text/plain": [
       "gender\n",
       "Female    2994\n",
       "Male      2115\n",
       "Other        1\n",
       "Name: count, dtype: int64"
      ]
     },
     "execution_count": 13,
     "metadata": {},
     "output_type": "execute_result"
    }
   ],
   "source": [
    "hc[\"gender\"].value_counts()"
   ]
  },
  {
   "cell_type": "markdown",
   "metadata": {},
   "source": [
    "We see value Other in feature named Gender. Because it's only one row  \n",
    "and will not have strong impact to analysis, it can be removed"
   ]
  },
  {
   "cell_type": "code",
   "execution_count": 14,
   "metadata": {},
   "outputs": [],
   "source": [
    "hc = hc.loc[hc[\"gender\"] != \"Other\"]"
   ]
  },
  {
   "cell_type": "code",
   "execution_count": 15,
   "metadata": {},
   "outputs": [
    {
     "data": {
      "text/plain": [
       "array(['Private', 'Self-employed', 'Govt_job', 'children', 'Never_worked'],\n",
       "      dtype=object)"
      ]
     },
     "execution_count": 15,
     "metadata": {},
     "output_type": "execute_result"
    }
   ],
   "source": [
    "hc[\"work_type\"].unique()"
   ]
  },
  {
   "cell_type": "markdown",
   "metadata": {},
   "source": [
    "We can see on work type feature there are 5 string-type classes. We can clean  \n",
    "them to be more convenient to work with.  \n",
    "Also, I checked smoking status value numbers and strings looks"
   ]
  },
  {
   "cell_type": "code",
   "execution_count": 16,
   "metadata": {},
   "outputs": [
    {
     "data": {
      "text/plain": [
       "smoking_status\n",
       "never smoked       1892\n",
       "Unknown            1544\n",
       "formerly smoked     884\n",
       "smokes              789\n",
       "Name: count, dtype: int64"
      ]
     },
     "execution_count": 16,
     "metadata": {},
     "output_type": "execute_result"
    }
   ],
   "source": [
    "# replace column's strings\n",
    "hc[\"work_type\"] = hc[\"work_type\"].replace(\n",
    "    {\n",
    "        \"Private\": \"private\",\n",
    "        \"Self-employed\": \"self_employed\",\n",
    "        \"Govt_job\": \"gvt_job\",\n",
    "        \"children\": \"child_care\",\n",
    "        \"Never_worked\": \"never_worked\",\n",
    "    }\n",
    ")\n",
    "\n",
    "# count values of each column's class\n",
    "hc[\"smoking_status\"].value_counts()"
   ]
  },
  {
   "cell_type": "markdown",
   "metadata": {},
   "source": [
    "We can see 4 classes of smoking status feature with the first place  \n",
    "never_smoked and second unknown. The unknown class might be a problem in  \n",
    "further research if smoking status feature had strong impact to ML models."
   ]
  },
  {
   "cell_type": "code",
   "execution_count": 17,
   "metadata": {},
   "outputs": [],
   "source": [
    "# replace column's strings\n",
    "hc[\"smoking_status\"] = hc[\"smoking_status\"].replace(\n",
    "    {\n",
    "        \"formerly smoked\":\"fmly_smoked\",\n",
    "        \"never smoked\":\"never_smoked\",\n",
    "        \"smokes\":\"smokes\",\n",
    "        \"Unknown\":\"unknown\"\n",
    "    }\n",
    ")\n",
    "\n",
    "# id column drop\n",
    "hc = hc.drop(columns=\"id\")\n",
    "\n",
    "# lower case strings\n",
    "hc[\"residence_type\"] = hc[\"residence_type\"].str.lower()\n",
    "hc[\"gender\"] = hc[\"gender\"].str.lower()"
   ]
  },
  {
   "cell_type": "markdown",
   "metadata": {},
   "source": [
    "### EDA (Exploratory Data Analysis)"
   ]
  },
  {
   "cell_type": "markdown",
   "metadata": {},
   "source": [
    "Since I did some changes in dataframe, let's check again basic info of cleaned  \n",
    "dataframe"
   ]
  },
  {
   "cell_type": "code",
   "execution_count": 18,
   "metadata": {},
   "outputs": [
    {
     "name": "stdout",
     "output_type": "stream",
     "text": [
      "<class 'pandas.core.frame.DataFrame'>\n",
      "Index: 5109 entries, 0 to 5109\n",
      "Data columns (total 11 columns):\n",
      " #   Column             Non-Null Count  Dtype  \n",
      "---  ------             --------------  -----  \n",
      " 0   gender             5109 non-null   object \n",
      " 1   age                5109 non-null   int32  \n",
      " 2   hypertension       5109 non-null   int64  \n",
      " 3   heart_disease      5109 non-null   int64  \n",
      " 4   ever_married       5109 non-null   object \n",
      " 5   work_type          5109 non-null   object \n",
      " 6   residence_type     5109 non-null   object \n",
      " 7   avg_glucose_level  5109 non-null   float64\n",
      " 8   bmi                5109 non-null   float64\n",
      " 9   smoking_status     5109 non-null   object \n",
      " 10  stroke             5109 non-null   int64  \n",
      "dtypes: float64(2), int32(1), int64(3), object(5)\n",
      "memory usage: 459.0+ KB\n"
     ]
    }
   ],
   "source": [
    "hc.info()"
   ]
  },
  {
   "cell_type": "markdown",
   "metadata": {},
   "source": [
    "By looking into table we can split data to categorical and numerical for  \n",
    "future analysis"
   ]
  },
  {
   "cell_type": "code",
   "execution_count": 19,
   "metadata": {},
   "outputs": [],
   "source": [
    "numeric = [\"age\", \"avg_glucose_level\", \"bmi\"]\n",
    "categoric = [\n",
    "    \"gender\",\n",
    "    \"hypertension\",\n",
    "    \"heart_disease\",\n",
    "    \"ever_married\",\n",
    "    \"work_type\",\n",
    "    \"residence_type\",\n",
    "    \"smoking_status\",\n",
    "]\n",
    "hc_num = hc[numeric]\n",
    "hc_cat = hc[categoric]"
   ]
  },
  {
   "cell_type": "markdown",
   "metadata": {},
   "source": [
    "Let's describe numeric values"
   ]
  },
  {
   "cell_type": "code",
   "execution_count": 20,
   "metadata": {},
   "outputs": [
    {
     "data": {
      "text/html": [
       "<div>\n",
       "<style scoped>\n",
       "    .dataframe tbody tr th:only-of-type {\n",
       "        vertical-align: middle;\n",
       "    }\n",
       "\n",
       "    .dataframe tbody tr th {\n",
       "        vertical-align: top;\n",
       "    }\n",
       "\n",
       "    .dataframe thead th {\n",
       "        text-align: right;\n",
       "    }\n",
       "</style>\n",
       "<table border=\"1\" class=\"dataframe\">\n",
       "  <thead>\n",
       "    <tr style=\"text-align: right;\">\n",
       "      <th></th>\n",
       "      <th>count</th>\n",
       "      <th>mean</th>\n",
       "      <th>std</th>\n",
       "      <th>min</th>\n",
       "      <th>25%</th>\n",
       "      <th>50%</th>\n",
       "      <th>75%</th>\n",
       "      <th>max</th>\n",
       "    </tr>\n",
       "  </thead>\n",
       "  <tbody>\n",
       "    <tr>\n",
       "      <th>age</th>\n",
       "      <td>5109.0</td>\n",
       "      <td>43.218634</td>\n",
       "      <td>22.634799</td>\n",
       "      <td>0.00</td>\n",
       "      <td>25.00</td>\n",
       "      <td>45.00</td>\n",
       "      <td>61.00</td>\n",
       "      <td>82.00</td>\n",
       "    </tr>\n",
       "    <tr>\n",
       "      <th>avg_glucose_level</th>\n",
       "      <td>5109.0</td>\n",
       "      <td>106.140399</td>\n",
       "      <td>45.285004</td>\n",
       "      <td>55.12</td>\n",
       "      <td>77.24</td>\n",
       "      <td>91.88</td>\n",
       "      <td>114.09</td>\n",
       "      <td>271.74</td>\n",
       "    </tr>\n",
       "    <tr>\n",
       "      <th>bmi</th>\n",
       "      <td>5109.0</td>\n",
       "      <td>28.894508</td>\n",
       "      <td>7.698235</td>\n",
       "      <td>10.30</td>\n",
       "      <td>23.80</td>\n",
       "      <td>28.40</td>\n",
       "      <td>32.80</td>\n",
       "      <td>97.60</td>\n",
       "    </tr>\n",
       "  </tbody>\n",
       "</table>\n",
       "</div>"
      ],
      "text/plain": [
       "                    count        mean        std    min    25%    50%     75%  \\\n",
       "age                5109.0   43.218634  22.634799   0.00  25.00  45.00   61.00   \n",
       "avg_glucose_level  5109.0  106.140399  45.285004  55.12  77.24  91.88  114.09   \n",
       "bmi                5109.0   28.894508   7.698235  10.30  23.80  28.40   32.80   \n",
       "\n",
       "                      max  \n",
       "age                 82.00  \n",
       "avg_glucose_level  271.74  \n",
       "bmi                 97.60  "
      ]
     },
     "execution_count": 20,
     "metadata": {},
     "output_type": "execute_result"
    }
   ],
   "source": [
    "hc_num.describe().T"
   ]
  },
  {
   "cell_type": "markdown",
   "metadata": {},
   "source": [
    "There is some difference between data scale. It will be updated with  \n",
    "standartization on ML developing part.  \n",
    "We can also check if numeric features are normaly distributed"
   ]
  },
  {
   "cell_type": "code",
   "execution_count": 21,
   "metadata": {},
   "outputs": [
    {
     "data": {
      "text/plain": [
       "age                 -0.140796\n",
       "avg_glucose_level    1.572815\n",
       "bmi                  1.076458\n",
       "dtype: float64"
      ]
     },
     "execution_count": 21,
     "metadata": {},
     "output_type": "execute_result"
    }
   ],
   "source": [
    "hc_num.skew()"
   ]
  },
  {
   "cell_type": "markdown",
   "metadata": {},
   "source": [
    "Age feature is just a little skewed to the left, while avg_glucose_level  \n",
    "and bmi have tail to the right. We can look at these visually"
   ]
  },
  {
   "cell_type": "code",
   "execution_count": 22,
   "metadata": {},
   "outputs": [
    {
     "data": {
      "image/png": "[encoded data removed]",
      "text/plain": [
       "<Figure size 800x600 with 4 Axes>"
      ]
     },
     "metadata": {},
     "output_type": "display_data"
    }
   ],
   "source": [
    "ax = hc_num.hist(figsize=(8, 6))\n",
    "plt.suptitle(\n",
    "    \"Numeric features distribution\",\n",
    "    size=14,\n",
    "    fontweight=\"bold\",\n",
    "    ha=\"center\")\n",
    "plt.tight_layout()\n",
    "plt.show()"
   ]
  },
  {
   "cell_type": "markdown",
   "metadata": {},
   "source": [
    "We can also check multicollinearity of numeric features using Variance  \n",
    "Inflation Factor (VIF). Having VIF > 10 suggests there is high correlation with  \n",
    "other features. This would help us decrease redundancy of features"
   ]
  },
  {
   "cell_type": "code",
   "execution_count": 94,
   "metadata": {},
   "outputs": [
    {
     "data": {
      "text/html": [
       "<div>\n",
       "<style scoped>\n",
       "    .dataframe tbody tr th:only-of-type {\n",
       "        vertical-align: middle;\n",
       "    }\n",
       "\n",
       "    .dataframe tbody tr th {\n",
       "        vertical-align: top;\n",
       "    }\n",
       "\n",
       "    .dataframe thead th {\n",
       "        text-align: right;\n",
       "    }\n",
       "</style>\n",
       "<table border=\"1\" class=\"dataframe\">\n",
       "  <thead>\n",
       "    <tr style=\"text-align: right;\">\n",
       "      <th></th>\n",
       "      <th>variables</th>\n",
       "      <th>VIF</th>\n",
       "    </tr>\n",
       "  </thead>\n",
       "  <tbody>\n",
       "    <tr>\n",
       "      <th>0</th>\n",
       "      <td>age</td>\n",
       "      <td>5.363227</td>\n",
       "    </tr>\n",
       "    <tr>\n",
       "      <th>1</th>\n",
       "      <td>avg_glucose_level</td>\n",
       "      <td>5.949023</td>\n",
       "    </tr>\n",
       "    <tr>\n",
       "      <th>2</th>\n",
       "      <td>bmi</td>\n",
       "      <td>7.876846</td>\n",
       "    </tr>\n",
       "  </tbody>\n",
       "</table>\n",
       "</div>"
      ],
      "text/plain": [
       "           variables       VIF\n",
       "0                age  5.363227\n",
       "1  avg_glucose_level  5.949023\n",
       "2                bmi  7.876846"
      ]
     },
     "execution_count": 94,
     "metadata": {},
     "output_type": "execute_result"
    }
   ],
   "source": [
    "sand.calc_vif(hc_num)"
   ]
  },
  {
   "cell_type": "markdown",
   "metadata": {},
   "source": [
    "VIF factor of 3 features varies 5-8 meaning there might be some kind of  \n",
    "correlation between features. It could impact model stability and  \n",
    "interpretability"
   ]
  },
  {
   "cell_type": "markdown",
   "metadata": {},
   "source": [
    "From description we saw avg. age is 43 with min 0 (less than 1 year) and  \n",
    "max 82. Glucose level has quite a high interval 55 - 271 with mean around 106.  \n",
    "BMI mean is ~29 where 50% of data points are also near 28"
   ]
  },
  {
   "cell_type": "code",
   "execution_count": 23,
   "metadata": {},
   "outputs": [
    {
     "data": {
      "image/png": "[encoded data removed]",
      "text/plain": [
       "<Figure size 600x400 with 1 Axes>"
      ]
     },
     "metadata": {},
     "output_type": "display_data"
    }
   ],
   "source": [
    "sand.f_histogram(xaxis=hc[\"age\"], label=\"age count\", title=\"Age distribution\")"
   ]
  },
  {
   "cell_type": "markdown",
   "metadata": {},
   "source": [
    "Age distribution plot shows the most data points are in 40-60 age and  \n",
    "potential annomaly for normal distribution - ~80 years people age."
   ]
  },
  {
   "cell_type": "markdown",
   "metadata": {},
   "source": [
    "To look closer into data and check if data is distributed normally,  \n",
    "Anderson-Darling test was performed with null hypothesis:  \n",
    "alpha=0.05  \n",
    "**H0**: *stat < crit. vals, suggests that data is normally distributed*  \n",
    "**Ha**: *stat > crit. vals, suggests that data is NOT normally distributed*"
   ]
  },
  {
   "cell_type": "code",
   "execution_count": 24,
   "metadata": {},
   "outputs": [
    {
     "name": "stdout",
     "output_type": "stream",
     "text": [
      "Statistic = 33.4629\n",
      "Critical values (15%, 10%, 5%, 2.5%, 1%): [0.576 0.655 0.786 0.917 1.091]\n"
     ]
    }
   ],
   "source": [
    "result = anderson(hc[\"age\"], dist=\"norm\")\n",
    "print(f\"Statistic = {result.statistic:.4f}\")\n",
    "print(f\"Critical values (15%, 10%, 5%, 2.5%, 1%): {result.critical_values}\")"
   ]
  },
  {
   "cell_type": "markdown",
   "metadata": {},
   "source": [
    "The test statistic is larger than the critical value at all significance  \n",
    "levels. With that result we **reject null hypothesis**, meaning data likely does  \n",
    "NOT follow the specified distribution. It is visually shown with Q-Q plot  \n",
    "as well at the following cell"
   ]
  },
  {
   "cell_type": "code",
   "execution_count": 25,
   "metadata": {},
   "outputs": [
    {
     "data": {
      "image/png": "[encoded data removed]",
      "text/plain": [
       "<Figure size 640x480 with 1 Axes>"
      ]
     },
     "metadata": {},
     "output_type": "display_data"
    }
   ],
   "source": [
    "stats.probplot(hc[\"age\"], dist=\"norm\", plot=plt)\n",
    "plt.title(\"Q-Q plot for age\")\n",
    "plt.show()"
   ]
  },
  {
   "cell_type": "markdown",
   "metadata": {},
   "source": [
    "Knowing that age data is not normally distributed, we can check age association  \n",
    "on stroke with hypothesis, using Spearman's Rank Correlation.  \n",
    "Hypothesis: Is there a significant association between age and stroke?  \n",
    "*alpha=0.05*  \n",
    "**H0**: *p > 0.05, there is no statistical association between age and stroke*  \n",
    "**Ha**: *p < 0.05, thre is significant statistical association between age and  \n",
    "stroke*"
   ]
  },
  {
   "cell_type": "code",
   "execution_count": 26,
   "metadata": {},
   "outputs": [
    {
     "name": "stdout",
     "output_type": "stream",
     "text": [
      "Statistics = 0.2495 \n",
      "p_value = 2.2478718424556205e-73\n"
     ]
    }
   ],
   "source": [
    "stat, p = spearmanr(hc[\"age\"], hc[\"stroke\"])\n",
    "print(f\"Statistics = {stat:.4f} \\np_value = {p}\")"
   ]
  },
  {
   "cell_type": "markdown",
   "metadata": {},
   "source": [
    "We can see p-value is very small number and we must to **reject null  \n",
    "hypothesis** meaning that there is a significant statistical association  \n",
    "between age and stroke. This information will be useful in ML part where models  \n",
    "and features will be engineered "
   ]
  },
  {
   "cell_type": "markdown",
   "metadata": {},
   "source": [
    "We can also check age data distribution per gender, to see if data is similary  \n",
    "distributed around both genders"
   ]
  },
  {
   "cell_type": "code",
   "execution_count": 27,
   "metadata": {},
   "outputs": [
    {
     "name": "stderr",
     "output_type": "stream",
     "text": [
      "No artists with labels found to put in legend.  Note that artists whose label start with an underscore are ignored when legend() is called with no argument.\n"
     ]
    },
    {
     "data": {
      "text/plain": [
       "Text(1, 0, '2994')"
      ]
     },
     "execution_count": 27,
     "metadata": {},
     "output_type": "execute_result"
    },
    {
     "data": {
      "image/png": "[encoded data removed]",
      "text/plain": [
       "<Figure size 500x300 with 1 Axes>"
      ]
     },
     "metadata": {},
     "output_type": "display_data"
    }
   ],
   "source": [
    "gend = hc[\"gender\"].value_counts()\n",
    "sand.f_boxplot(\n",
    "    data=hc,\n",
    "    xaxis=\"gender\",\n",
    "    yaxis=\"age\",\n",
    "    hue=\"gender\",\n",
    "    ylabel=\"age\",\n",
    "    title=\"Age distribution per gender\"\n",
    ")\n",
    "plt.text(0, hc[\"age\"].min(), f\"{gend.loc['male']}\", ha=\"left\", va=\"bottom\")\n",
    "plt.text(1, hc[\"age\"].min(), f\"{gend.loc['female']}\", ha=\"left\", va=\"bottom\")"
   ]
  },
  {
   "cell_type": "markdown",
   "metadata": {},
   "source": [
    "Plot shows male and female distribution is similar. Female distribution is  \n",
    "a little bit narrower and it has almost 800 more data points. Such unequality  \n",
    "might have impact for ML models where these could calculate resuls on female  \n",
    "class favor due to higher amount of data points"
   ]
  },
  {
   "cell_type": "markdown",
   "metadata": {},
   "source": [
    "---"
   ]
  },
  {
   "cell_type": "markdown",
   "metadata": {},
   "source": [
    "We saw some classes inequality in gender feature. Let's take a closer look to  \n",
    "other categorical features"
   ]
  },
  {
   "cell_type": "code",
   "execution_count": 37,
   "metadata": {},
   "outputs": [
    {
     "name": "stdout",
     "output_type": "stream",
     "text": [
      "hypertension\n",
      "0    4611\n",
      "1     498\n",
      "Name: count, dtype: int64\n"
     ]
    },
    {
     "data": {
      "image/png": "[encoded data removed]",
      "text/plain": [
       "<Figure size 500x300 with 1 Axes>"
      ]
     },
     "metadata": {},
     "output_type": "display_data"
    }
   ],
   "source": [
    "print(f\"{hc_cat['hypertension'].value_counts()}\")\n",
    "sand.f_countplot(\n",
    "    data=hc_cat,\n",
    "    xaxis=\"hypertension\",\n",
    "    stat=\"percent\",\n",
    "    title=\"Percentage of people (not)having hypertension\",\n",
    ")\n",
    "plt.show()"
   ]
  },
  {
   "cell_type": "markdown",
   "metadata": {},
   "source": [
    "Huge percent of people (~90%) are not having hypertension"
   ]
  },
  {
   "cell_type": "code",
   "execution_count": 38,
   "metadata": {},
   "outputs": [
    {
     "name": "stdout",
     "output_type": "stream",
     "text": [
      "heart_disease\n",
      "0    4833\n",
      "1     276\n",
      "Name: count, dtype: int64\n"
     ]
    },
    {
     "data": {
      "image/png": "[encoded data removed]",
      "text/plain": [
       "<Figure size 500x300 with 1 Axes>"
      ]
     },
     "metadata": {},
     "output_type": "display_data"
    }
   ],
   "source": [
    "print(f\"{hc_cat['heart_disease'].value_counts()}\")\n",
    "sand.f_countplot(\n",
    "    data=hc_cat,\n",
    "    xaxis=\"heart_disease\",\n",
    "    stat=\"percent\",\n",
    "    title=\"Percentage of people (not)having heart_disease\",\n",
    ")\n",
    "plt.show()"
   ]
  },
  {
   "cell_type": "markdown",
   "metadata": {},
   "source": [
    "Even higher percent ~95% of people are not having heart disease in a given  \n",
    "dataset"
   ]
  },
  {
   "cell_type": "code",
   "execution_count": 39,
   "metadata": {},
   "outputs": [
    {
     "name": "stdout",
     "output_type": "stream",
     "text": [
      "ever_married\n",
      "Yes    3353\n",
      "No     1756\n",
      "Name: count, dtype: int64\n"
     ]
    },
    {
     "data": {
      "image/png": "[encoded data removed]",
      "text/plain": [
       "<Figure size 500x300 with 1 Axes>"
      ]
     },
     "metadata": {},
     "output_type": "display_data"
    }
   ],
   "source": [
    "print(f\"{hc_cat['ever_married'].value_counts()}\")\n",
    "sand.f_countplot(\n",
    "    data=hc_cat,\n",
    "    xaxis=\"ever_married\",\n",
    "    stat=\"percent\",\n",
    "    title=\"Percentage of people that have ever married\",\n",
    ")\n",
    "plt.show()"
   ]
  },
  {
   "cell_type": "markdown",
   "metadata": {},
   "source": [
    "About two times more people have been or are married"
   ]
  },
  {
   "cell_type": "code",
   "execution_count": 40,
   "metadata": {},
   "outputs": [
    {
     "name": "stdout",
     "output_type": "stream",
     "text": [
      "work_type\n",
      "private          2924\n",
      "self_employed     819\n",
      "child_care        687\n",
      "gvt_job           657\n",
      "never_worked       22\n",
      "Name: count, dtype: int64\n"
     ]
    },
    {
     "data": {
      "image/png": "[encoded data removed]",
      "text/plain": [
       "<Figure size 500x300 with 1 Axes>"
      ]
     },
     "metadata": {},
     "output_type": "display_data"
    }
   ],
   "source": [
    "print(f\"{hc_cat['work_type'].value_counts()}\")\n",
    "sand.f_countplot(\n",
    "    data=hc_cat,\n",
    "    xaxis=\"work_type\",\n",
    "    stat=\"percent\",\n",
    "    title=\"Percentage of different work types\",\n",
    ")\n",
    "plt.show()"
   ]
  },
  {
   "cell_type": "markdown",
   "metadata": {},
   "source": [
    "57% of all people in this dataset works in private sector, while similary  \n",
    "13-16% are self employed, works government job or cares children. Only ~0.4%  \n",
    "never worked before"
   ]
  },
  {
   "cell_type": "code",
   "execution_count": 41,
   "metadata": {},
   "outputs": [
    {
     "name": "stdout",
     "output_type": "stream",
     "text": [
      "residence_type\n",
      "urban    2596\n",
      "rural    2513\n",
      "Name: count, dtype: int64\n"
     ]
    },
    {
     "data": {
      "image/png": "[encoded data removed]",
      "text/plain": [
       "<Figure size 500x300 with 1 Axes>"
      ]
     },
     "metadata": {},
     "output_type": "display_data"
    }
   ],
   "source": [
    "print(f\"{hc_cat['residence_type'].value_counts()}\")\n",
    "sand.f_countplot(\n",
    "    data=hc_cat,\n",
    "    xaxis=\"residence_type\",\n",
    "    stat=\"percent\",\n",
    "    title=\"Percentage of two residence types\",\n",
    ")\n",
    "plt.show()"
   ]
  },
  {
   "cell_type": "markdown",
   "metadata": {},
   "source": [
    "Similary patients are from urban and rural residences"
   ]
  },
  {
   "cell_type": "code",
   "execution_count": 42,
   "metadata": {},
   "outputs": [
    {
     "name": "stdout",
     "output_type": "stream",
     "text": [
      "smoking_status\n",
      "never_smoked    1892\n",
      "unknown         1544\n",
      "fmly_smoked      884\n",
      "smokes           789\n",
      "Name: count, dtype: int64\n"
     ]
    },
    {
     "data": {
      "image/png": "[encoded data removed]",
      "text/plain": [
       "<Figure size 500x300 with 1 Axes>"
      ]
     },
     "metadata": {},
     "output_type": "display_data"
    }
   ],
   "source": [
    "print(f\"{hc_cat['smoking_status'].value_counts()}\")\n",
    "sand.f_countplot(\n",
    "    data=hc_cat,\n",
    "    xaxis=\"smoking_status\",\n",
    "    stat=\"percent\",\n",
    "    title=\"Percentage of different smoking statuses\",\n",
    ")\n",
    "plt.show()"
   ]
  },
  {
   "cell_type": "markdown",
   "metadata": {},
   "source": [
    "We have different smoking statuses where highest percentage is with people  \n",
    "that never smoked. Formarly smoked and patient who smokes are very similar  \n",
    "classes due to same action have been made - \"smoking\". We don't know how much  \n",
    "time they smoked before or how much time they smoke. Smoking time period data  \n",
    "could be very useful in ML if further analysis shows strong impact to ML  \n",
    "model accuracy"
   ]
  },
  {
   "cell_type": "markdown",
   "metadata": {},
   "source": [
    "I will check categorical features degree of dependency on target variable by  \n",
    "using mutual info score function. Higher values means higher dependency. It  \n",
    "implies that we can get better prediction on target variable"
   ]
  },
  {
   "cell_type": "code",
   "execution_count": 55,
   "metadata": {},
   "outputs": [
    {
     "data": {
      "text/html": [
       "<div>\n",
       "<style scoped>\n",
       "    .dataframe tbody tr th:only-of-type {\n",
       "        vertical-align: middle;\n",
       "    }\n",
       "\n",
       "    .dataframe tbody tr th {\n",
       "        vertical-align: top;\n",
       "    }\n",
       "\n",
       "    .dataframe thead th {\n",
       "        text-align: right;\n",
       "    }\n",
       "</style>\n",
       "<table border=\"1\" class=\"dataframe\">\n",
       "  <thead>\n",
       "    <tr style=\"text-align: right;\">\n",
       "      <th></th>\n",
       "      <th>mutual_info_score</th>\n",
       "    </tr>\n",
       "  </thead>\n",
       "  <tbody>\n",
       "    <tr>\n",
       "      <th>ever_married</th>\n",
       "      <td>0.006945</td>\n",
       "    </tr>\n",
       "    <tr>\n",
       "      <th>work_type</th>\n",
       "      <td>0.006827</td>\n",
       "    </tr>\n",
       "    <tr>\n",
       "      <th>hypertension</th>\n",
       "      <td>0.005975</td>\n",
       "    </tr>\n",
       "    <tr>\n",
       "      <th>heart_disease</th>\n",
       "      <td>0.005897</td>\n",
       "    </tr>\n",
       "    <tr>\n",
       "      <th>smoking_status</th>\n",
       "      <td>0.002757</td>\n",
       "    </tr>\n",
       "    <tr>\n",
       "      <th>residence_type</th>\n",
       "      <td>0.000119</td>\n",
       "    </tr>\n",
       "    <tr>\n",
       "      <th>gender</th>\n",
       "      <td>0.000041</td>\n",
       "    </tr>\n",
       "  </tbody>\n",
       "</table>\n",
       "</div>"
      ],
      "text/plain": [
       "                mutual_info_score\n",
       "ever_married             0.006945\n",
       "work_type                0.006827\n",
       "hypertension             0.005975\n",
       "heart_disease            0.005897\n",
       "smoking_status           0.002757\n",
       "residence_type           0.000119\n",
       "gender                   0.000041"
      ]
     },
     "execution_count": 55,
     "metadata": {},
     "output_type": "execute_result"
    }
   ],
   "source": [
    "def cat_mut_inf(series):\n",
    "    return mutual_info_score(series, hc[\"stroke\"])\n",
    "\n",
    "scores_cat = hc_cat.apply(cat_mut_inf)\n",
    "scores_cat = (scores_cat\n",
    "              .sort_values(ascending=False)\n",
    "              .to_frame(name=\"mutual_info_score\"))\n",
    "scores_cat"
   ]
  },
  {
   "cell_type": "markdown",
   "metadata": {},
   "source": [
    "As we can see none of categorical features have strong impact to target  \n",
    "variable. First place is \"ever married\" feature and second \"work type\". These  \n",
    "could be considered for further investigation"
   ]
  },
  {
   "cell_type": "markdown",
   "metadata": {},
   "source": [
    "---"
   ]
  },
  {
   "cell_type": "markdown",
   "metadata": {},
   "source": [
    "Lastly, let's check our target feature - stroke. Binary indicator 1 meaning  \n",
    "patient had stroke and 0 meaning he/she hadn't.  \n",
    "We can calculate percentage of each class"
   ]
  },
  {
   "cell_type": "code",
   "execution_count": 29,
   "metadata": {},
   "outputs": [
    {
     "name": "stdout",
     "output_type": "stream",
     "text": [
      "Didn't have stroke: 0.9513\n",
      "Did have stroke: 0.0487\n"
     ]
    }
   ],
   "source": [
    "stroke_count = hc[\"stroke\"].value_counts()\n",
    "print(f\"Didn't have stroke: {stroke_count.iloc[0] / hc['stroke'].count():.4f}\")\n",
    "print(f\"Did have stroke: {stroke_count.iloc[1] / hc['stroke'].count():.4f}\")"
   ]
  },
  {
   "cell_type": "code",
   "execution_count": 30,
   "metadata": {},
   "outputs": [
    {
     "data": {
      "image/png": "[encoded data removed]",
      "text/plain": [
       "<Figure size 500x300 with 1 Axes>"
      ]
     },
     "metadata": {},
     "output_type": "display_data"
    }
   ],
   "source": [
    "plt.figure(figsize=(5, 3))\n",
    "ax = sns.countplot(x=hc[\"stroke\"])\n",
    "for container in ax.containers:\n",
    "    ax.bar_label(container)\n",
    "ax.axes.get_yaxis().set_visible(False)\n",
    "ax.set_frame_on(False)\n",
    "plt.tight_layout()\n",
    "plt.title(\"Stroke count\", size=14, fontweight=\"bold\", ha=\"center\")\n",
    "plt.show()"
   ]
  },
  {
   "cell_type": "markdown",
   "metadata": {},
   "source": [
    "We can see that majority of people (~95%) didn't have stroke and only ~5% did.  \n",
    "This huge difference in classes of target feature is strong indicator of  \n",
    "class imbalance"
   ]
  },
  {
   "cell_type": "markdown",
   "metadata": {},
   "source": [
    "Let's look how marriage impacts to strokes between man and woman"
   ]
  },
  {
   "cell_type": "code",
   "execution_count": 67,
   "metadata": {},
   "outputs": [
    {
     "name": "stdout",
     "output_type": "stream",
     "text": [
      "Married man who had a stroke: 100\n",
      "Married woman who had a stroke: 120\n"
     ]
    },
    {
     "data": {
      "image/png": "[encoded data removed]",
      "text/plain": [
       "<Figure size 500x300 with 1 Axes>"
      ]
     },
     "metadata": {},
     "output_type": "display_data"
    }
   ],
   "source": [
    "# Filtering both genders only who had a stroke\n",
    "stroke = hc[(hc[\"ever_married\"] == \"Yes\") & (hc[\"stroke\"] == 1)]\n",
    "stroke_count = stroke[\"gender\"].value_counts()\n",
    "print(f\"Married man who had a stroke: {stroke_count.iloc[1]}\")\n",
    "print(f\"Married woman who had a stroke: {stroke_count.iloc[0]}\")\n",
    "\n",
    "# Count plot for different gender stroke (0/1) condition\n",
    "sand.f_countplot(data=hc, xaxis=\"ever_married\", hue=\"stroke\")"
   ]
  },
  {
   "cell_type": "markdown",
   "metadata": {},
   "source": [
    "As we can see people who have ever married tend to more likely have a stroke,  \n",
    "plot suggests. Gender does not have impact to strokes in married since data  \n",
    "shows that 100 man and 120 woman had stroke.  \n",
    "Even with these results we cannot say that marriage has direct impact to  \n",
    "strokes. There might be other factors included which could be associated. Maybe  \n",
    "married people tend to eat more junk food, smoke more, start living more  \n",
    "relax life with less sport or they doesn't have time for healthier lifestyle"
   ]
  },
  {
   "cell_type": "markdown",
   "metadata": {},
   "source": [
    "Let's take a look how marriage impacts smoking"
   ]
  },
  {
   "cell_type": "code",
   "execution_count": 90,
   "metadata": {},
   "outputs": [
    {
     "data": {
      "image/png": "[encoded data removed]",
      "text/plain": [
       "<Figure size 500x300 with 1 Axes>"
      ]
     },
     "metadata": {},
     "output_type": "display_data"
    }
   ],
   "source": [
    "sand.f_countplot(data=hc, xaxis=\"smoking_status\", hue=\"ever_married\")\n",
    "plt.show()"
   ]
  },
  {
   "cell_type": "markdown",
   "metadata": {},
   "source": [
    "It looks that marriage doesn't have impact to smokings due to similary high  \n",
    "numbers on people who smokes, formarly smoked and never smoked"
   ]
  }
 ],
 "metadata": {
  "kernelspec": {
   "display_name": "Python 3",
   "language": "python",
   "name": "python3"
  },
  "language_info": {
   "codemirror_mode": {
    "name": "ipython",
    "version": 3
   },
   "file_extension": ".py",
   "mimetype": "text/x-python",
   "name": "python",
   "nbconvert_exporter": "python",
   "pygments_lexer": "ipython3",
   "version": "3.11.4"
  }
 },
 "nbformat": 4,
 "nbformat_minor": 2
}
